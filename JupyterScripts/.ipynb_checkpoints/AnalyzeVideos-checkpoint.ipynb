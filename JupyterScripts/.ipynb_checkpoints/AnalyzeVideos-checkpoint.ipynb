{
 "cells": [
  {
   "cell_type": "code",
   "execution_count": 1,
   "metadata": {
    "colab": {},
    "colab_type": "code",
    "id": "jqLZhp7EoEI0"
   },
   "outputs": [],
   "source": [
    "import deeplabcut"
   ]
  },
  {
   "cell_type": "markdown",
   "metadata": {
    "colab_type": "text",
    "id": "0yXW0bx1oEJA"
   },
   "source": [
    "#### Define projects parameters"
   ]
  },
  {
   "cell_type": "code",
   "execution_count": 2,
   "metadata": {},
   "outputs": [],
   "source": [
    "path_config_file = 'V:\\\\Code\\\\Souris\\\\DLC_Projects\\\\FreeWhisking\\\\HF_FreeWhisking_LeftSide-Vincent-2019-06-03\\\\config.yaml'"
   ]
  },
  {
   "cell_type": "code",
   "execution_count": 1,
   "metadata": {},
   "outputs": [
    {
     "name": "stdout",
     "output_type": "stream",
     "text": [
      "D:\\Vincent\\vIRt32\\vIRt32_0403\\vIRt32_4032_allwhiskersDeepCut_resnet50_HF_FreeWhisking_LeftSideJun3shuffle1_1030000.h5\n",
      "D:\\Vincent\\vIRt32\\vIRt32_0403\\vIRt32_4032_trimmedDeepCut_resnet50_HF_FreeWhisking_LeftSideJun3shuffle1_1030000.h5\n",
      "D:\\Vincent\\vIRt32\\vIRt32_0403\\vIRt32_4249DeepCut_resnet50_HF_FreeWhisking_LeftSideJun3shuffle1_1030000.h5\n",
      "D:\\Vincent\\vIRt32\\vIRt32_0403\\vIRt32_4304DeepCut_resnet50_HF_FreeWhisking_LeftSideJun3shuffle1_1030000.h5\n",
      "D:\\Vincent\\vIRt32\\vIRt32_0403\\vIRt32_4359DeepCut_resnet50_HF_FreeWhisking_LeftSideJun3shuffle1_1030000.h5\n",
      "D:\\Vincent\\vIRt32\\vIRt32_0403\\vIRt32_4414DeepCut_resnet50_HF_FreeWhisking_LeftSideJun3shuffle1_1030000.h5\n",
      "D:\\Vincent\\vIRt32\\vIRt32_0403\\vIRt32_4416DeepCut_resnet50_HF_FreeWhisking_LeftSideJun3shuffle1_1030000.h5\n"
     ]
    }
   ],
   "source": [
    "# check h5 files\n",
    "import os\n",
    "for root, dirs, files in os.walk(\"D:\\\\Vincent\\\\vIRt32\"):\n",
    "    for file in files:\n",
    "        if file.endswith(\".h5\"):\n",
    "                 print(os.path.join(root, file))"
   ]
  },
  {
   "cell_type": "code",
   "execution_count": 3,
   "metadata": {},
   "outputs": [],
   "source": [
    "import os\n",
    "video_files = []\n",
    "for root, dirs, files in os.walk(\"D:\\\\Vincent\\\\vIRt32\"):\n",
    "    for file in files:\n",
    "        if file.endswith(\".mp4\") and not file.startswith(('vIRt32_4032_allwhiskers.mp4',\n",
    "                                                          'vIRt32_4032_trimmed.mp4',\n",
    "                                                          'vIRt32_4249.mp4',\n",
    "                                                          'vIRt32_4304.mp4',\n",
    "                                                          'vIRt32_4359.mp4',\n",
    "                                                          'vIRt32_4414.mp4',\n",
    "                                                          'vIRt32_4416.mp4')):            \n",
    "                 #print(os.path.join(root, file))\n",
    "                 video_files.append(os.path.join(root, file))"
   ]
  },
  {
   "cell_type": "code",
   "execution_count": 5,
   "metadata": {},
   "outputs": [
    {
     "data": {
      "text/plain": [
       "['D:\\\\Vincent\\\\vIRt32\\\\vIRt32_0403\\\\vIRt32_4032_allwhiskers.mp4',\n",
       " 'D:\\\\Vincent\\\\vIRt32\\\\vIRt32_0403\\\\vIRt32_4032_trimmed.mp4',\n",
       " 'D:\\\\Vincent\\\\vIRt32\\\\vIRt32_0403\\\\vIRt32_4249.mp4',\n",
       " 'D:\\\\Vincent\\\\vIRt32\\\\vIRt32_0403\\\\vIRt32_4304.mp4',\n",
       " 'D:\\\\Vincent\\\\vIRt32\\\\vIRt32_0403\\\\vIRt32_4359.mp4',\n",
       " 'D:\\\\Vincent\\\\vIRt32\\\\vIRt32_0403\\\\vIRt32_4414.mp4',\n",
       " 'D:\\\\Vincent\\\\vIRt32\\\\vIRt32_0403\\\\vIRt32_4416.mp4',\n",
       " 'D:\\\\Vincent\\\\vIRt32\\\\vIRt32_0403\\\\vIRt32_4469.mp4',\n",
       " 'D:\\\\Vincent\\\\vIRt32\\\\vIRt32_0403\\\\test\\\\vIRt32_4032_allwhiskers.mp4',\n",
       " 'D:\\\\Vincent\\\\vIRt32\\\\vIRt32_0403\\\\WhiskerTracking\\\\vIRt32_4032_trimmed.mp4',\n",
       " 'D:\\\\Vincent\\\\vIRt32\\\\vIRt32_0403\\\\WhiskerTracking\\\\vIRt32_4249.mp4',\n",
       " 'D:\\\\Vincent\\\\vIRt32\\\\vIRt32_0403\\\\WhiskerTracking\\\\vIRt32_4304.mp4',\n",
       " 'D:\\\\Vincent\\\\vIRt32\\\\vIRt32_0403\\\\WhiskerTracking\\\\vIRt32_4359.mp4',\n",
       " 'D:\\\\Vincent\\\\vIRt32\\\\vIRt32_0403\\\\WhiskerTracking\\\\vIRt32_4414.mp4',\n",
       " 'D:\\\\Vincent\\\\vIRt32\\\\vIRt32_0405\\\\vIRt32_4470.mp4',\n",
       " 'D:\\\\Vincent\\\\vIRt32\\\\vIRt32_0405\\\\vIRt32_4524.mp4',\n",
       " 'D:\\\\Vincent\\\\vIRt32\\\\vIRt32_0405\\\\vIRt32_4579.mp4',\n",
       " 'D:\\\\Vincent\\\\vIRt32\\\\vIRt32_0405\\\\vIRt32_4634.mp4',\n",
       " 'D:\\\\Vincent\\\\vIRt32\\\\vIRt32_0405\\\\vIRt32_4689.mp4',\n",
       " 'D:\\\\Vincent\\\\vIRt32\\\\vIRt32_0405\\\\vIRt32_4744.mp4',\n",
       " 'D:\\\\Vincent\\\\vIRt32\\\\vIRt32_0410\\\\vIRt32_0410_4799.mp4',\n",
       " 'D:\\\\Vincent\\\\vIRt32\\\\vIRt32_0410\\\\vIRt32_0410_4854.mp4',\n",
       " 'D:\\\\Vincent\\\\vIRt32\\\\vIRt32_0410\\\\vIRt32_0410_4909.mp4',\n",
       " 'D:\\\\Vincent\\\\vIRt32\\\\vIRt32_0410\\\\vIRt32_0410_4910.mp4',\n",
       " 'D:\\\\Vincent\\\\vIRt32\\\\vIRt32_0410\\\\vIRt32_0410_4910_Analysis\\\\vIRt32_0410_4910.mp4',\n",
       " 'D:\\\\Vincent\\\\vIRt32\\\\vIRt32_0419\\\\vIRt32_0419_4910_Analysis\\\\vIRt32_0419_4910.mp4',\n",
       " 'D:\\\\Vincent\\\\vIRt32\\\\vIRt32_0419\\\\vIRt32_0419_4964_Analysis\\\\vIRt32_0419_4964.mp4',\n",
       " 'D:\\\\Vincent\\\\vIRt32\\\\vIRt32_0419\\\\vIRt32_0419_5019_Analysis\\\\vIRt32_0419_5019.mp4',\n",
       " 'D:\\\\Vincent\\\\vIRt32\\\\vIRt32_0419\\\\vIRt32_0419_5074_Analysis\\\\vIRt32_0419_5074.mp4',\n",
       " 'D:\\\\Vincent\\\\vIRt32\\\\vIRt32_0419\\\\vIRt32_0419_5129_Analysis\\\\vIRt32_0419_5129.mp4',\n",
       " 'D:\\\\Vincent\\\\vIRt32\\\\vIRt32_0419\\\\vIRt32_0419_5129_Analysis\\\\vIRt32_0419_5129_pole.mp4',\n",
       " 'D:\\\\Vincent\\\\vIRt32\\\\vIRt32_0424\\\\vIRt32_0424_5184_Analysis\\\\vIRt32_0424_5184.mp4',\n",
       " 'D:\\\\Vincent\\\\vIRt32\\\\vIRt32_0424\\\\vIRt32_0424_5185_Analysis\\\\vIRt32_0424_5185.mp4',\n",
       " 'D:\\\\Vincent\\\\vIRt32\\\\vIRt32_0424\\\\vIRt32_0424_5185_pole_Analysis\\\\vIRt32_0424_5185_pole.mp4']"
      ]
     },
     "execution_count": 5,
     "metadata": {},
     "output_type": "execute_result"
    }
   ],
   "source": [
    "video_files"
   ]
  },
  {
   "cell_type": "markdown",
   "metadata": {
    "colab_type": "text",
    "id": "OVFLSKKfoEJk"
   },
   "source": [
    "#### Start Analyzing videos\n",
    "You can specify the correct snapshot index for the variable **snapshotindex** in the **config.yaml** file. Otherwise, by default the most recent snapshot is used to analyse the video.\n",
    "\n",
    "The results are stored in hd5 file in the same directory where the video resides. "
   ]
  },
  {
   "cell_type": "code",
   "execution_count": null,
   "metadata": {
    "colab": {},
    "colab_type": "code",
    "id": "Y_LZiS_0oEJl"
   },
   "outputs": [
    {
     "name": "stderr",
     "output_type": "stream",
     "text": [
      "V:\\ProgramData\\Anaconda3\\envs\\dlc-windowsGPU\\lib\\site-packages\\deeplabcut\\pose_estimation_tensorflow\\config.py:43: YAMLLoadWarning: calling yaml.load() without Loader=... is deprecated, as the default Loader is unsafe. Please read https://msg.pyyaml.org/load for full details.\n",
      "  yaml_cfg = edict(yaml.load(f))\n"
     ]
    },
    {
     "name": "stdout",
     "output_type": "stream",
     "text": [
      "Using snapshot-1030000 for model V:\\Code\\Souris\\DLC_Projects\\FreeWhisking\\HF_FreeWhisking_LeftSide-Vincent-2019-06-03\\dlc-models\\iteration-1\\HF_FreeWhisking_LeftSideJun3-trainset95shuffle1\n",
      "INFO:tensorflow:Restoring parameters from V:\\Code\\Souris\\DLC_Projects\\FreeWhisking\\HF_FreeWhisking_LeftSide-Vincent-2019-06-03\\dlc-models\\iteration-1\\HF_FreeWhisking_LeftSideJun3-trainset95shuffle1\\train\\snapshot-1030000\n"
     ]
    },
    {
     "name": "stderr",
     "output_type": "stream",
     "text": [
      "INFO:tensorflow:Restoring parameters from V:\\Code\\Souris\\DLC_Projects\\FreeWhisking\\HF_FreeWhisking_LeftSide-Vincent-2019-06-03\\dlc-models\\iteration-1\\HF_FreeWhisking_LeftSideJun3-trainset95shuffle1\\train\\snapshot-1030000\n"
     ]
    },
    {
     "name": "stdout",
     "output_type": "stream",
     "text": [
      "Starting to analyze %  D:\\Vincent\\vIRt32\\vIRt32_0403\\vIRt32_4032_allwhiskers.mp4\n",
      "Loading  D:\\Vincent\\vIRt32\\vIRt32_0403\\vIRt32_4032_allwhiskers.mp4\n",
      "Duration of video [s]:  11536.8 , recorded with  25.0 fps!\n",
      "Overall # of frames:  288420  found with (before cropping) frame dimensions:  640 480\n",
      "Starting to extract posture\n"
     ]
    },
    {
     "name": "stderr",
     "output_type": "stream",
     "text": [
      "291284it [2:18:39, 34.50it/s]                                                                                          "
     ]
    },
    {
     "name": "stdout",
     "output_type": "stream",
     "text": [
      "Detected frames:  288420\n"
     ]
    },
    {
     "name": "stderr",
     "output_type": "stream",
     "text": [
      "\n"
     ]
    },
    {
     "name": "stdout",
     "output_type": "stream",
     "text": [
      "Saving results in D:\\Vincent\\vIRt32\\vIRt32_0403...\n",
      "Saving csv poses!\n",
      "Starting to analyze %  D:\\Vincent\\vIRt32\\vIRt32_0403\\vIRt32_4032_trimmed.mp4\n",
      "Loading  D:\\Vincent\\vIRt32\\vIRt32_0403\\vIRt32_4032_trimmed.mp4\n",
      "Duration of video [s]:  8999.88 , recorded with  25.0 fps!\n",
      "Overall # of frames:  224997  found with (before cropping) frame dimensions:  640 480\n",
      "Starting to extract posture\n"
     ]
    },
    {
     "name": "stderr",
     "output_type": "stream",
     "text": [
      "227149it [1:49:32, 34.23it/s]                                                                                          "
     ]
    },
    {
     "name": "stdout",
     "output_type": "stream",
     "text": [
      "Detected frames:  224997\n"
     ]
    },
    {
     "name": "stderr",
     "output_type": "stream",
     "text": [
      "\n"
     ]
    },
    {
     "name": "stdout",
     "output_type": "stream",
     "text": [
      "Saving results in D:\\Vincent\\vIRt32\\vIRt32_0403...\n",
      "Saving csv poses!\n",
      "Starting to analyze %  D:\\Vincent\\vIRt32\\vIRt32_0403\\vIRt32_4249.mp4\n",
      "Loading  D:\\Vincent\\vIRt32\\vIRt32_0403\\vIRt32_4249.mp4\n",
      "Duration of video [s]:  6387.08 , recorded with  25.0 fps!\n",
      "Overall # of frames:  159677  found with (before cropping) frame dimensions:  640 480\n",
      "Starting to extract posture\n"
     ]
    },
    {
     "name": "stderr",
     "output_type": "stream",
     "text": [
      "161196it [1:17:02, 34.55it/s]                                                                                          "
     ]
    },
    {
     "name": "stdout",
     "output_type": "stream",
     "text": [
      "Detected frames:  159677\n"
     ]
    },
    {
     "name": "stderr",
     "output_type": "stream",
     "text": [
      "\n"
     ]
    },
    {
     "name": "stdout",
     "output_type": "stream",
     "text": [
      "Saving results in D:\\Vincent\\vIRt32\\vIRt32_0403...\n",
      "Saving csv poses!\n",
      "Starting to analyze %  D:\\Vincent\\vIRt32\\vIRt32_0403\\vIRt32_4304.mp4\n",
      "Loading  D:\\Vincent\\vIRt32\\vIRt32_0403\\vIRt32_4304.mp4\n",
      "Duration of video [s]:  16170.76 , recorded with  25.0 fps!\n",
      "Overall # of frames:  404269  found with (before cropping) frame dimensions:  640 480\n",
      "Starting to extract posture\n"
     ]
    },
    {
     "name": "stderr",
     "output_type": "stream",
     "text": [
      "408242it [3:14:54, 34.62it/s]                                                                                          "
     ]
    },
    {
     "name": "stdout",
     "output_type": "stream",
     "text": [
      "Detected frames:  404269\n"
     ]
    },
    {
     "name": "stderr",
     "output_type": "stream",
     "text": [
      "\n"
     ]
    },
    {
     "name": "stdout",
     "output_type": "stream",
     "text": [
      "Saving results in D:\\Vincent\\vIRt32\\vIRt32_0403...\n",
      "Saving csv poses!\n",
      "Starting to analyze %  D:\\Vincent\\vIRt32\\vIRt32_0403\\vIRt32_4359.mp4\n",
      "Loading  D:\\Vincent\\vIRt32\\vIRt32_0403\\vIRt32_4359.mp4\n",
      "Duration of video [s]:  23331.64 , recorded with  25.0 fps!\n",
      "Overall # of frames:  583291  found with (before cropping) frame dimensions:  640 480\n",
      "Starting to extract posture\n"
     ]
    },
    {
     "name": "stderr",
     "output_type": "stream",
     "text": [
      "589032it [4:41:21, 34.53it/s]                                                                                          "
     ]
    },
    {
     "name": "stdout",
     "output_type": "stream",
     "text": [
      "Detected frames:  583291\n"
     ]
    },
    {
     "name": "stderr",
     "output_type": "stream",
     "text": [
      "\n"
     ]
    },
    {
     "name": "stdout",
     "output_type": "stream",
     "text": [
      "Saving results in D:\\Vincent\\vIRt32\\vIRt32_0403...\n",
      "Saving csv poses!\n",
      "Starting to analyze %  D:\\Vincent\\vIRt32\\vIRt32_0403\\vIRt32_4414.mp4\n",
      "Loading  D:\\Vincent\\vIRt32\\vIRt32_0403\\vIRt32_4414.mp4\n",
      "Duration of video [s]:  19463.2 , recorded with  25.0 fps!\n",
      "Overall # of frames:  486580  found with (before cropping) frame dimensions:  640 480\n",
      "Starting to extract posture\n"
     ]
    },
    {
     "name": "stderr",
     "output_type": "stream",
     "text": [
      "491365it [3:55:16, 34.46it/s]                                                                                          "
     ]
    },
    {
     "name": "stdout",
     "output_type": "stream",
     "text": [
      "Detected frames:  486580\n"
     ]
    },
    {
     "name": "stderr",
     "output_type": "stream",
     "text": [
      "\n"
     ]
    },
    {
     "name": "stdout",
     "output_type": "stream",
     "text": [
      "Saving results in D:\\Vincent\\vIRt32\\vIRt32_0403...\n",
      "Saving csv poses!\n",
      "Starting to analyze %  D:\\Vincent\\vIRt32\\vIRt32_0403\\vIRt32_4416.mp4\n",
      "Loading  D:\\Vincent\\vIRt32\\vIRt32_0403\\vIRt32_4416.mp4\n",
      "Duration of video [s]:  11011.4 , recorded with  25.0 fps!\n",
      "Overall # of frames:  275285  found with (before cropping) frame dimensions:  640 480\n",
      "Starting to extract posture\n"
     ]
    },
    {
     "name": "stderr",
     "output_type": "stream",
     "text": [
      "277952it [2:14:53, 34.08it/s]                                                                                          "
     ]
    },
    {
     "name": "stdout",
     "output_type": "stream",
     "text": [
      "Detected frames:  275285\n"
     ]
    },
    {
     "name": "stderr",
     "output_type": "stream",
     "text": [
      "\n"
     ]
    },
    {
     "name": "stdout",
     "output_type": "stream",
     "text": [
      "Saving results in D:\\Vincent\\vIRt32\\vIRt32_0403...\n",
      "Saving csv poses!\n",
      "Starting to analyze %  D:\\Vincent\\vIRt32\\vIRt32_0403\\vIRt32_4469.mp4\n",
      "Loading  D:\\Vincent\\vIRt32\\vIRt32_0403\\vIRt32_4469.mp4\n",
      "Duration of video [s]:  26055.6 , recorded with  25.0 fps!\n",
      "Overall # of frames:  651390  found with (before cropping) frame dimensions:  640 480\n",
      "Starting to extract posture\n"
     ]
    },
    {
     "name": "stderr",
     "output_type": "stream",
     "text": [
      " 41%|████████████████████████████▎                                        | 267033/651390 [3:08:52<21:39:07,  4.93it/s]"
     ]
    }
   ],
   "source": [
    "#videofile_path = ['D:\\\\Vincent\\\\vIRt32\\\\vIRt32_0419\\\\vIRt32_0419_4964_Analysis\\\\vIRt32_0419_4964.mp4'] #['videos\\\\vIRt32_0410_4910.mp4','videos\\\\vIRt32_0419_5129.mp4'] #Enter the list of videos to analyze.\n",
    "deeplabcut.analyze_videos(path_config_file,video_files,save_as_csv=True)"
   ]
  },
  {
   "cell_type": "code",
   "execution_count": null,
   "metadata": {},
   "outputs": [],
   "source": []
  }
 ],
 "metadata": {
  "accelerator": "GPU",
  "colab": {
   "name": "Demo-yourowndata.ipynb",
   "provenance": [],
   "version": "0.3.2"
  },
  "kernelspec": {
   "display_name": "Python 3",
   "language": "python",
   "name": "python3"
  },
  "language_info": {
   "codemirror_mode": {
    "name": "ipython",
    "version": 3
   },
   "file_extension": ".py",
   "mimetype": "text/x-python",
   "name": "python",
   "nbconvert_exporter": "python",
   "pygments_lexer": "ipython3",
   "version": "3.6.6"
  },
  "varInspector": {
   "cols": {
    "lenName": 16,
    "lenType": 16,
    "lenVar": 40
   },
   "kernels_config": {
    "python": {
     "delete_cmd_postfix": "",
     "delete_cmd_prefix": "del ",
     "library": "var_list.py",
     "varRefreshCmd": "print(var_dic_list())"
    },
    "r": {
     "delete_cmd_postfix": ") ",
     "delete_cmd_prefix": "rm(",
     "library": "var_list.r",
     "varRefreshCmd": "cat(var_dic_list()) "
    }
   },
   "types_to_exclude": [
    "module",
    "function",
    "builtin_function_or_method",
    "instance",
    "_Feature"
   ],
   "window_display": false
  }
 },
 "nbformat": 4,
 "nbformat_minor": 1
}
